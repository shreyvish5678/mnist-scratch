{
 "cells": [
  {
   "cell_type": "markdown",
   "metadata": {},
   "source": [
    "## __Proccessing batches__\n",
    "\n",
    "Let's figure out how we can process batches of data. First let's look at our inputs and weights. \n",
    "\n",
    "$$\n",
    "I = \\begin{bmatrix}\n",
    "1 & 2 & 3 & 4 \\\\\n",
    "0.5 & 2.5 & -3.5 & -2 \\\\\n",
    "\\end{bmatrix}\n",
    "$$\n",
    "\n",
    "$$\n",
    "W = \\begin{bmatrix}\n",
    "0.3 & -0.2 & 0.5 & 1.1 \\\\\n",
    "-0.6 & 0.8 & 2.2 & 0.1 \\\\\n",
    "0.5 & 0.9 & -0.7 & -3.1 \\\\\n",
    "\\end{bmatrix}\n",
    "$$\n",
    "\n",
    "Here, we can see see that our inputs are a 2x4 matrix, representing 2 samples in a batch, and are weights are a 4x3 matrix, representing 4 weights from input neurons, for 3 output neurons. Since dot product multiples by row and column, we need to first, __transpose__ the weights, or else there will an error."
   ]
  },
  {
   "cell_type": "code",
   "execution_count": 1,
   "metadata": {},
   "outputs": [
    {
     "name": "stdout",
     "output_type": "stream",
     "text": [
      "[[ 0.3 -0.6  0.5]\n",
      " [-0.2  0.8  0.9]\n",
      " [ 0.5  2.2 -0.7]\n",
      " [ 1.1  0.1 -3.1]]\n"
     ]
    }
   ],
   "source": [
    "import numpy as np\n",
    "\n",
    "inputs = np.array([[1, 2, 3, 4], [0.5, 2.5, -3.5, -2]])\n",
    "\n",
    "weights = np.array([[0.3, -0.2, 0.5, 1.1],\n",
    "          [-0.6, 0.8, 2.2, 0.1],\n",
    "          [0.5, 0.9, -0.7, -3.1]])\n",
    "\n",
    "bias = np.array([-4, 2, 1])\n",
    "\n",
    "print(weights.T)"
   ]
  },
  {
   "cell_type": "markdown",
   "metadata": {},
   "source": [
    "Here's what our weights look like now\n",
    "\n",
    "$$\n",
    "W_{t} = \\begin{bmatrix}\n",
    "0.3 & -0.6 & 0.5 \\\\\n",
    "-0.2 & 0.8 & 0.9 \\\\\n",
    "0.5 & 2.2 & -0.7 \\\\\n",
    "1.1 & 0.1 & -3.1 \\\\\n",
    "\\end{bmatrix}\n",
    "$$\n",
    "\n",
    "We can see that the weights have been transposed, and now we can perform dot product.\n"
   ]
  },
  {
   "cell_type": "code",
   "execution_count": 2,
   "metadata": {},
   "outputs": [
    {
     "name": "stdout",
     "output_type": "stream",
     "text": [
      "[[  1.8   10.   -11.2 ]\n",
      " [ -8.3   -4.2   12.15]]\n"
     ]
    }
   ],
   "source": [
    "import numpy as np\n",
    "\n",
    "inputs = np.array([[1, 2, 3, 4], [0.5, 2.5, -3.5, -2]])\n",
    "\n",
    "weights = np.array([[0.3, -0.2, 0.5, 1.1],\n",
    "          [-0.6, 0.8, 2.2, 0.1],\n",
    "          [0.5, 0.9, -0.7, -3.1]])\n",
    "\n",
    "bias = np.array([-4, 2, 1])\n",
    "\n",
    "output = np.dot(inputs, weights.T) + bias\n",
    "\n",
    "print(output)"
   ]
  },
  {
   "cell_type": "markdown",
   "metadata": {},
   "source": [
    "Now let's take our implementation, and turn it into a class, for ease of use. We will create a Dense class, whose weights will be randomly initialized and biases set to zero. Then we create a method for our implementation. Now it's much easier to add multiple layers to our model. We can set the input neurons the same as the output neurons of the previous layer, and pass the output of the previous layer, as the input of the current layer."
   ]
  },
  {
   "cell_type": "code",
   "execution_count": 3,
   "metadata": {},
   "outputs": [
    {
     "name": "stdout",
     "output_type": "stream",
     "text": [
      "[[  4.40853063   5.03445423   5.10404735  -1.0734144   -2.57989465]\n",
      " [  3.23757994 -16.50948996 -11.13038356  16.96942164  13.00812626]]\n"
     ]
    }
   ],
   "source": [
    "class Dense:\n",
    "  def __init__(self, input_neurons, output_neurons):\n",
    "    self.weights = np.random.randn(input_neurons, output_neurons)\n",
    "    self.biases = np.zeros((1, output_neurons))\n",
    "  def forward(self, inputs):\n",
    "    self.output = np.dot(inputs, self.weights) + self.biases\n",
    "\n",
    "layer_one = Dense(4, 3)\n",
    "layer_one.forward(inputs)\n",
    "layer_two = Dense(3, 5)\n",
    "layer_two.forward(layer_one.output)\n",
    "print(layer_two.output)"
   ]
  },
  {
   "cell_type": "markdown",
   "metadata": {},
   "source": [
    "Now we have implemented a basic neural network with a 4-3-5 architecture, but there's a lot more to do! Let's now start adding activation functions into our neural network."
   ]
  }
 ],
 "metadata": {
  "kernelspec": {
   "display_name": "Python 3",
   "language": "python",
   "name": "python3"
  },
  "language_info": {
   "codemirror_mode": {
    "name": "ipython",
    "version": 3
   },
   "file_extension": ".py",
   "mimetype": "text/x-python",
   "name": "python",
   "nbconvert_exporter": "python",
   "pygments_lexer": "ipython3",
   "version": "3.11.1"
  },
  "orig_nbformat": 4
 },
 "nbformat": 4,
 "nbformat_minor": 2
}
