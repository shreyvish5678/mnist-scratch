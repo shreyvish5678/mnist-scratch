{
 "cells": [
  {
   "cell_type": "code",
   "execution_count": 1,
   "metadata": {},
   "outputs": [],
   "source": [
    "import numpy as np\n",
    "import pickle\n",
    "from sklearn.model_selection import train_test_split\n",
    "\n",
    "import pickle\n",
    "with open('dataset.p', 'rb') as file:\n",
    "  X, y = pickle.load(file)\n",
    "X = X.reshape(X.shape[0], -1)\n",
    "\n",
    "X_train, X_test, y_train, y_test = train_test_split(X, y, test_size=0.2, random_state=0)"
   ]
  },
  {
   "cell_type": "code",
   "execution_count": 2,
   "metadata": {},
   "outputs": [],
   "source": [
    "class Dense:\n",
    "  def __init__(self, input_neurons, output_neurons):\n",
    "    self.weights = 0.1*np.random.randn(input_neurons, output_neurons)\n",
    "    self.biases = np.zeros((1, output_neurons))\n",
    "  def forward(self, inputs):\n",
    "    self.inputs = inputs\n",
    "    self.output = np.dot(inputs, self.weights) + self.biases\n",
    "  def backprop(self, dvalues):\n",
    "    self.dinputs = np.dot(dvalues, self.weights.T)\n",
    "    self.dweights = np.dot(self.inputs.T, dvalues)\n",
    "    self.dbiases = np.sum(dvalues, axis=0, keepdims=True)\n",
    "\n",
    "class ReLu:\n",
    "  def forward(self, inputs):\n",
    "    self.inputs = inputs\n",
    "    self.output = np.maximum(0, inputs)\n",
    "  def backprop(self, dvalues):\n",
    "    self.dinputs = dvalues.copy()\n",
    "    self.dinputs[self.inputs <= 0] = 0"
   ]
  },
  {
   "cell_type": "code",
   "execution_count": 3,
   "metadata": {},
   "outputs": [],
   "source": [
    "class Softmax:\n",
    "  def forward(self, inputs):\n",
    "    exp_values = np.exp(inputs - np.max(inputs, axis=1, keepdims=True))\n",
    "    self.output = exp_values / np.sum(exp_values, axis=1, keepdims=True)\n",
    "\n",
    "class Loss:\n",
    "  def calculate(self, y_pred, y_true):\n",
    "    samples = len(y_pred)\n",
    "    y_pred = np.clip(y_pred, 1e-7, 1-1e-7)\n",
    "    correct_confidences = y_pred[range(samples), y_true]\n",
    "    return -np.mean(np.log(correct_confidences))\n",
    "\n",
    "class Softmax_Loss:\n",
    "  def __init__(self):\n",
    "    self.activation = Softmax()\n",
    "    self.loss = Loss()\n",
    "  def forward(self, inputs, y_true):\n",
    "    self.activation.forward(inputs)\n",
    "    self.output = self.activation.output\n",
    "    return self.loss.calculate(self.output, y_true)\n",
    "  def backprop(self, dvalues, y_true):\n",
    "    samples = len(dvalues)\n",
    "    self.dinputs = dvalues.copy()\n",
    "    self.dinputs[range(samples), y_true] -= 1\n",
    "    self.dinputs /= samples"
   ]
  },
  {
   "cell_type": "code",
   "execution_count": 4,
   "metadata": {},
   "outputs": [],
   "source": [
    "class Optimizer_GD:\n",
    "  def __init__(self, learning_rate=0.001, decay=0., momentum=0.):\n",
    "    self.learning_rate = learning_rate\n",
    "    self.current_learning_rate = learning_rate\n",
    "    self.decay = decay\n",
    "    self.momentum = momentum\n",
    "    self.iterations = 0\n",
    "  def update_params(self, layer):\n",
    "    if self.decay:\n",
    "      self.current_learning_rate = self.learning_rate / (1 + self.decay * self.iterations)\n",
    "    if self.momentum:\n",
    "      if not hasattr(layer, 'weight_momentums'):\n",
    "        layer.weight_momentums = np.zeros_like(layer.weights)\n",
    "        layer.bias_momentums = np.zeros_like(layer.biases)\n",
    "      weight_updates = layer.weight_momentums * self.momentum - self.current_learning_rate * layer.dweights\n",
    "      layer.weight_momentums = weight_updates\n",
    "      bias_updates = layer.bias_momentums * self.momentum - self.current_learning_rate * layer.dbiases\n",
    "      layer.bias_momentums = bias_updates\n",
    "    else:\n",
    "      weight_updates = -self.current_learning_rate * layer.dweights\n",
    "      bias_updates = -self.current_learning_rate * layer.dbiases\n",
    "    layer.weights += weight_updates\n",
    "    layer.biases += bias_updates\n",
    "    self.iterations += 1"
   ]
  },
  {
   "cell_type": "code",
   "execution_count": 5,
   "metadata": {},
   "outputs": [],
   "source": [
    "class Optimizer_RMSProp:\n",
    "  def __init__(self, learning_rate=0.001, epsilon=1e-7, rho=0.9):\n",
    "    self.learning_rate = learning_rate\n",
    "    self.epsilon = epsilon\n",
    "    self.rho = rho\n",
    "  def update_params(self, layer):\n",
    "    if not hasattr(layer, 'weight_cache'):\n",
    "      layer.weight_cache = np.zeros_like(layer.weights)\n",
    "      layer.bias_cache = np.zeros_like(layer.biases)\n",
    "    layer.weight_cache = self.rho * layer.weight_cache + (1 - self.rho) * layer.dweights ** 2\n",
    "    layer.bias_cache = self.rho * layer.bias_cache + (1 - self.rho) * layer.dbiases ** 2\n",
    "    layer.weights -= self.learning_rate * layer.dweights / np.sqrt(layer.weight_cache + self.epsilon)\n",
    "    layer.biases -= self.learning_rate * layer.dbiases / np.sqrt(layer.bias_cache + self.epsilon)"
   ]
  },
  {
   "cell_type": "code",
   "execution_count": 6,
   "metadata": {},
   "outputs": [],
   "source": [
    "class Optimizer_Adam:\n",
    "  def __init__(self, epsilon=1e-7, learning_rate=0.001, beta_1=0.9, beta_2=0.999):\n",
    "    self.learning_rate = learning_rate\n",
    "    self.epsilon = epsilon\n",
    "    self.beta_1 = beta_1\n",
    "    self.beta_2 = beta_2\n",
    "    self.iterations = 0\n",
    "  def update_params(self, layer):\n",
    "    if not hasattr(layer, 'weight_cache'):\n",
    "      layer.weight_cache = np.zeros_like(layer.weights)\n",
    "      layer.bias_cache = np.zeros_like(layer.biases)\n",
    "      layer.weight_momentums = np.zeros_like(layer.weights)\n",
    "      layer.bias_momentums = np.zeros_like(layer.biases)\n",
    "    layer.weight_momentums = self.beta_1 * layer.weight_momentums  + (1 - self.beta_1) * layer.dweights\n",
    "    layer.bias_momentums = self.beta_2 * layer.bias_momentums  + (1 - self.beta_2) * layer.dbiases\n",
    "    weight_momentums_corrected = layer.weight_momentums / (1 - self.beta_1 ** (self.iterations + 1))\n",
    "    bias_momentums_corrected = layer.bias_momentums / (1 - self.beta_2 ** (self.iterations + 1))\n",
    "    layer.weight_cache = self.beta_2 * layer.weight_cache + (1 - self.beta_2) * layer.dweights ** 2\n",
    "    layer.bias_cache = self.beta_2 * layer.bias_cache + (1 - self.beta_2) * layer.dbiases ** 2\n",
    "    weight_cache_corrected = layer.weight_cache / (1 - self.beta_2 ** (self.iterations + 1))\n",
    "    bias_cache_corrected = layer.bias_cache / (1 - self.beta_2 ** (self.iterations + 1))\n",
    "    layer.weights -= self.learning_rate * weight_momentums_corrected / (np.sqrt(weight_cache_corrected) + self.epsilon)\n",
    "    layer.biases -= self.learning_rate * bias_momentums_corrected / (np.sqrt(bias_cache_corrected) + self.epsilon)"
   ]
  },
  {
   "cell_type": "code",
   "execution_count": 7,
   "metadata": {},
   "outputs": [],
   "source": [
    "layer_one = Dense(784, 128)\n",
    "relu_one = ReLu()\n",
    "layer_two = Dense(128, 64)\n",
    "relu_two = ReLu()\n",
    "layer_three = Dense(64, 10)\n",
    "softmax_loss = Softmax_Loss()\n",
    "optimizer = Optimizer_Adam()\n",
    "epochs = 10\n",
    "batch_size = 32"
   ]
  },
  {
   "cell_type": "code",
   "execution_count": 8,
   "metadata": {},
   "outputs": [
    {
     "name": "stdout",
     "output_type": "stream",
     "text": [
      "Epoch 1/10, Loss: 0.16263, Accuracy: 96.88%\n",
      "Epoch 2/10, Loss: 0.26861, Accuracy: 90.62%\n",
      "Epoch 3/10, Loss: 0.06292, Accuracy: 100.00%\n",
      "Epoch 4/10, Loss: 0.46458, Accuracy: 87.50%\n",
      "Epoch 5/10, Loss: 0.09421, Accuracy: 93.75%\n",
      "Epoch 6/10, Loss: 0.07397, Accuracy: 96.88%\n",
      "Epoch 7/10, Loss: 0.04403, Accuracy: 100.00%\n",
      "Epoch 8/10, Loss: 0.15895, Accuracy: 93.75%\n",
      "Epoch 9/10, Loss: 0.06927, Accuracy: 93.75%\n",
      "Epoch 10/10, Loss: 0.00832, Accuracy: 100.00%\n"
     ]
    }
   ],
   "source": [
    "for epoch in range(epochs):\n",
    "  indices = np.arange(len(X_train))\n",
    "  np.random.shuffle(indices)\n",
    "  X_train, y_train = X_train[indices], y_train[indices]\n",
    "  \n",
    "  for i in range(0, len(X_train), batch_size):\n",
    "    X_batch, y_batch = X_train[i:i+batch_size], y_train[i:i+batch_size]\n",
    "     \n",
    "    layer_one.forward(X_batch)\n",
    "    relu_one.forward(layer_one.output)\n",
    "    layer_two.forward(relu_one.output)\n",
    "    relu_two.forward(layer_two.output)\n",
    "    layer_three.forward(relu_two.output)\n",
    "    loss = softmax_loss.forward(layer_three.output, y_batch)\n",
    "\n",
    "    predictions = np.argmax(softmax_loss.output, axis=1)\n",
    "    accuracy = np.mean(predictions == y_batch)\n",
    "\n",
    "    softmax_loss.backprop(softmax_loss.output, y_batch)\n",
    "    layer_three.backprop(softmax_loss.dinputs)\n",
    "    relu_two.backprop(layer_three.dinputs)\n",
    "    layer_two.backprop(relu_two.dinputs)\n",
    "    relu_one.backprop(layer_two.dinputs)\n",
    "    layer_one.backprop(relu_one.dinputs)\n",
    "\n",
    "    optimizer.update_params(layer_one)\n",
    "    optimizer.update_params(layer_two)\n",
    "    optimizer.update_params(layer_three)\n",
    "\n",
    "  print(f'Epoch {epoch+1}/{epochs}, Loss: {loss:.5f}, Accuracy: {accuracy * 100:.2f}%')"
   ]
  },
  {
   "cell_type": "code",
   "execution_count": 9,
   "metadata": {},
   "outputs": [
    {
     "name": "stdout",
     "output_type": "stream",
     "text": [
      "Test Loss: 0.15708\n",
      "Test Accuracy: 95.94%\n"
     ]
    }
   ],
   "source": [
    "layer_one.forward(X_test)\n",
    "relu_one.forward(layer_one.output)\n",
    "layer_two.forward(relu_one.output)\n",
    "relu_two.forward(layer_two.output)\n",
    "layer_three.forward(relu_two.output)\n",
    "\n",
    "test_loss = softmax_loss.forward(layer_three.output, y_test)\n",
    "print(f'Test Loss: {test_loss:.5f}') \n",
    "\n",
    "predictions = np.argmax(softmax_loss.output, axis=1) \n",
    "accuracy = np.mean(predictions == y_test)\n",
    "print(f'Test Accuracy: {accuracy * 100:.2f}%')"
   ]
  }
 ],
 "metadata": {
  "kernelspec": {
   "display_name": "Python 3",
   "language": "python",
   "name": "python3"
  },
  "language_info": {
   "codemirror_mode": {
    "name": "ipython",
    "version": 3
   },
   "file_extension": ".py",
   "mimetype": "text/x-python",
   "name": "python",
   "nbconvert_exporter": "python",
   "pygments_lexer": "ipython3",
   "version": "3.11.1"
  },
  "orig_nbformat": 4
 },
 "nbformat": 4,
 "nbformat_minor": 2
}
