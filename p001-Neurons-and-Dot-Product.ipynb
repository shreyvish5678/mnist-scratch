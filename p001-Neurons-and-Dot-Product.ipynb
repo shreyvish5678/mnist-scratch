{
 "cells": [
  {
   "cell_type": "markdown",
   "metadata": {},
   "source": [
    "# __Neural Network from Scratch__\n",
    "\n",
    "We will be going over how to create a neural network from scratch. But what are they?\n",
    "\n",
    "## What are Neural Networks?\n",
    "\n",
    "Neural networks are a part of machine learning, and are the core of Deep learning algorithms, allowing us to do things such as image classification, speech recognition, natural language processing, and object detection. Neural networks use training data to increase their accuracy. \n",
    "\n",
    "Neural networks are made up of neurons, stacked in layers and connected to neurons in other layers. The kinds kinds of layers in neural networks, are:\n",
    "\n",
    "- Input layer\n",
    "- Hidden layer(s)\n",
    "- Output layer"
   ]
  },
  {
   "cell_type": "markdown",
   "metadata": {},
   "source": [
    "The input layer just comprises of the features, then hidden layers is where the majority of the computations and processing happens, then the output layer, gives us some kind of result or prediction. Each layer is connected by a weight and bias. Now let's go over the steps on how to create our own neural network from scratch\n",
    "\n",
    "## Steps\n",
    "\n",
    "1. Create a neuron\n",
    "2. Create a layer\n",
    "3. Add batches and more layers\n",
    "4. Add ReLu activation\n",
    "5. Add softmax activation\n",
    "6. Add loss function\n",
    "7. Understand backpropagation\n",
    "8. Apply backpropagation\n",
    "9. Apply optimization\n",
    "10. Evaluate model"
   ]
  },
  {
   "cell_type": "markdown",
   "metadata": {},
   "source": [
    "## __Creating a neuron__\n",
    "\n",
    "We want to use the equation\n",
    "\n",
    "### $f(x) = wx+b$\n",
    "\n",
    "Where w is the weights, x is the inputs, and b is the bias. So let's write some code to do that."
   ]
  },
  {
   "cell_type": "code",
   "execution_count": 1,
   "metadata": {},
   "outputs": [
    {
     "name": "stdout",
     "output_type": "stream",
     "text": [
      "2.9\n"
     ]
    }
   ],
   "source": [
    "inputs = [1, 2, 3, 4]\n",
    "weights = [0.3, -0.2, 0.5, 1.1]\n",
    "bias = 1.5\n",
    "\n",
    "output = inputs[0]*weights[0] + inputs[1]*weights[1] + inputs[2]*weights[2] + bias\n",
    "print(output)"
   ]
  },
  {
   "cell_type": "markdown",
   "metadata": {},
   "source": [
    "So our code works. We implemented one neuron in python. Now let's implement multiple neurons for a layer, by creating an array of weights, and a list of inputs and biases. We can use the dot product in numpy, to be able to compute this with ease. Each input will represent an input neuron, each list of weights, will represent the wieghts for each neuron in the next layer, and each bias, will represent the bias of each neuron in the next layer."
   ]
  },
  {
   "cell_type": "code",
   "execution_count": 2,
   "metadata": {},
   "outputs": [
    {
     "name": "stdout",
     "output_type": "stream",
     "text": [
      "[  1.8  10.  -11.2]\n"
     ]
    }
   ],
   "source": [
    "import numpy as np\n",
    "\n",
    "inputs = [1, 2, 3, 4]\n",
    "\n",
    "weights = [[0.3, -0.2, 0.5, 1.1],\n",
    "          [-0.6, 0.8, 2.2, 0.1],\n",
    "          [0.5, 0.9, -0.7, -3.1]]\n",
    "\n",
    "bias = [-4, 2, 1]\n",
    "\n",
    "output = np.dot(weights,  inputs) + bias\n",
    "\n",
    "print(output)"
   ]
  },
  {
   "cell_type": "markdown",
   "metadata": {},
   "source": [
    "Now we have implemented an input layer with 4 neurons, and an output layer with 3 neurons. Next we will take a look at how to deal with batches of data, instead of single sample. We will also create a class, for our current layer implementation, called the Dense Layer."
   ]
  }
 ],
 "metadata": {
  "kernelspec": {
   "display_name": "Python 3",
   "language": "python",
   "name": "python3"
  },
  "language_info": {
   "codemirror_mode": {
    "name": "ipython",
    "version": 3
   },
   "file_extension": ".py",
   "mimetype": "text/x-python",
   "name": "python",
   "nbconvert_exporter": "python",
   "pygments_lexer": "ipython3",
   "version": "3.11.1"
  },
  "orig_nbformat": 4
 },
 "nbformat": 4,
 "nbformat_minor": 2
}
